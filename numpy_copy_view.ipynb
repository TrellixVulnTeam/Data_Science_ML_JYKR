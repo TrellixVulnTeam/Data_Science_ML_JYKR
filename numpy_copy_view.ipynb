{
 "cells": [
  {
   "cell_type": "code",
   "execution_count": 1,
   "source": [
    "import numpy as np\r\n",
    "\r\n",
    "arr = np.array([1, 2, 3, 4, 5])\r\n",
    "\r\n",
    "x = arr.copy()\r\n",
    "y = arr.view()\r\n",
    "\r\n",
    "print(x.base)\r\n",
    "print(y.base)"
   ],
   "outputs": [
    {
     "output_type": "stream",
     "name": "stdout",
     "text": [
      "None\n",
      "[1 2 3 4 5]\n"
     ]
    }
   ],
   "metadata": {}
  },
  {
   "cell_type": "code",
   "execution_count": 2,
   "source": [
    "import numpy as np\r\n",
    "\r\n",
    "arr = np.array([1, 2, 3, 4, 5])\r\n",
    "x = arr.copy()\r\n",
    "arr[0] = 42\r\n",
    "\r\n",
    "print(arr)\r\n",
    "print(x)"
   ],
   "outputs": [
    {
     "output_type": "stream",
     "name": "stdout",
     "text": [
      "[42  2  3  4  5]\n",
      "[1 2 3 4 5]\n"
     ]
    }
   ],
   "metadata": {}
  },
  {
   "cell_type": "code",
   "execution_count": 4,
   "source": [
    "import numpy as np\r\n",
    "\r\n",
    "arr = np.array([1, 2, 3, 4, 5])\r\n",
    "x = arr.view()\r\n",
    "arr[0] = 42\r\n",
    "\r\n",
    "print(arr)\r\n",
    "print(x)"
   ],
   "outputs": [
    {
     "output_type": "stream",
     "name": "stdout",
     "text": [
      "[42  2  3  4  5]\n",
      "[42  2  3  4  5]\n"
     ]
    }
   ],
   "metadata": {}
  }
 ],
 "metadata": {
  "orig_nbformat": 4,
  "language_info": {
   "name": "python",
   "version": "3.9.6",
   "mimetype": "text/x-python",
   "codemirror_mode": {
    "name": "ipython",
    "version": 3
   },
   "pygments_lexer": "ipython3",
   "nbconvert_exporter": "python",
   "file_extension": ".py"
  },
  "kernelspec": {
   "name": "python3",
   "display_name": "Python 3.9.6 64-bit ('dataml': venv)"
  },
  "interpreter": {
   "hash": "04dbc3b0324969ad36c5d0c2e5d5f832d5f2c23603fbbc04e18e1fe79b8d3a83"
  }
 },
 "nbformat": 4,
 "nbformat_minor": 2
}