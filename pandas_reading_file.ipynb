{
 "cells": [
  {
   "cell_type": "code",
   "execution_count": 2,
   "metadata": {},
   "outputs": [
    {
     "name": "stdout",
     "output_type": "stream",
     "text": [
      "   id    name  salary  start_date        dept\n",
      "0   1    Rick  623.30  2012-01-01          IT\n",
      "1   2     Dan  515.20  2013-09-23  Operations\n",
      "2   3   Tusar  611.00  2014-11-15          IT\n",
      "3   4    Ryan  729.00  2014-05-11          HR\n",
      "4   5    Gary  843.25  2015-03-27     Finance\n",
      "5   6   Rasmi  578.00  2013-05-21          IT\n",
      "6   7  Pranab  632.80  2013-07-30  Operations\n",
      "7   8    Guru  722.50  2014-06-17     Finance\n"
     ]
    }
   ],
   "source": [
    "import pandas as pd\n",
    "data = pd.read_csv('input.csv')\n",
    "print (data)"
   ]
  },
  {
   "cell_type": "code",
   "execution_count": 4,
   "metadata": {},
   "outputs": [
    {
     "name": "stdout",
     "output_type": "stream",
     "text": [
      "0    623.30\n",
      "1    515.20\n",
      "2    611.00\n",
      "3    729.00\n",
      "4    843.25\n",
      "Name: salary, dtype: float64\n"
     ]
    }
   ],
   "source": [
    "import pandas as pd\n",
    "data = pd.read_csv('input.csv')\n",
    "\n",
    "# Slice the result for first 5 rows\n",
    "print (data[0:5]['salary'])"
   ]
  },
  {
   "cell_type": "code",
   "execution_count": 6,
   "metadata": {},
   "outputs": [
    {
     "name": "stdout",
     "output_type": "stream",
     "text": [
      "   salary    name\n",
      "0  623.30    Rick\n",
      "1  515.20     Dan\n",
      "2  611.00   Tusar\n",
      "3  729.00    Ryan\n",
      "4  843.25    Gary\n",
      "5  578.00   Rasmi\n",
      "6  632.80  Pranab\n",
      "7  722.50    Guru\n"
     ]
    }
   ],
   "source": [
    "import pandas as pd\n",
    "data = pd.read_csv('input.csv')\n",
    "\n",
    "# Use the multi-axes indexing funtion\n",
    "print (data.loc[:,['salary','name']])"
   ]
  },
  {
   "cell_type": "code",
   "execution_count": 8,
   "metadata": {},
   "outputs": [
    {
     "name": "stdout",
     "output_type": "stream",
     "text": [
      "   salary   name\n",
      "1   515.2    Dan\n",
      "3   729.0   Ryan\n",
      "5   578.0  Rasmi\n"
     ]
    }
   ],
   "source": [
    "import pandas as pd\n",
    "data = pd.read_csv('input.csv')\n",
    "\n",
    "# Use the multi-axes indexing funtion\n",
    "print (data.loc[[1,3,5],['salary','name']])"
   ]
  },
  {
   "cell_type": "code",
   "execution_count": 9,
   "metadata": {},
   "outputs": [
    {
     "name": "stdout",
     "output_type": "stream",
     "text": [
      "   salary    name\n",
      "2  611.00   Tusar\n",
      "3  729.00    Ryan\n",
      "4  843.25    Gary\n",
      "5  578.00   Rasmi\n",
      "6  632.80  Pranab\n"
     ]
    }
   ],
   "source": [
    "import pandas as pd\n",
    "data = pd.read_csv('input.csv')\n",
    "\n",
    "# Use the multi-axes indexing funtion\n",
    "print (data.loc[2:6,['salary','name']])"
   ]
  },
  {
   "cell_type": "code",
   "execution_count": 13,
   "metadata": {},
   "outputs": [
    {
     "name": "stdout",
     "output_type": "stream",
     "text": [
      "        Name   Age\n",
      "0     Andres  25.0\n",
      "1   Chanchal   NaN\n",
      "2     Gasper   NaN\n",
      "3       Jack   NaN\n",
      "4      James   NaN\n",
      "5        Lee   NaN\n",
      "6     Naviya   NaN\n",
      "7      Ricky   NaN\n",
      "8      Smith   NaN\n",
      "9      Steve   NaN\n",
      "10       Tom   NaN\n",
      "11       Vin   NaN\n"
     ]
    }
   ],
   "source": [
    "import pandas as pd\n",
    "\n",
    "#Create a Dictionary of series\n",
    "d = {'Name':pd.Series(['Tom','James','Ricky','Vin','Steve','Smith','Jack',\n",
    "   'Lee','Chanchal','Gasper','Naviya','Andres']),\n",
    "   'Age':pd.Series([25,26,25,23,30,25,23,34,40,30,25,46])}\n",
    "#Create a DataFrame\n",
    "df = pd.DataFrame(d)\n",
    "\n",
    "print (df.mode())"
   ]
  }
 ],
 "metadata": {
  "interpreter": {
   "hash": "04dbc3b0324969ad36c5d0c2e5d5f832d5f2c23603fbbc04e18e1fe79b8d3a83"
  },
  "kernelspec": {
   "display_name": "Python 3.9.6 64-bit ('dataml': venv)",
   "name": "python3"
  },
  "language_info": {
   "codemirror_mode": {
    "name": "ipython",
    "version": 3
   },
   "file_extension": ".py",
   "mimetype": "text/x-python",
   "name": "python",
   "nbconvert_exporter": "python",
   "pygments_lexer": "ipython3",
   "version": "3.9.6"
  },
  "orig_nbformat": 4
 },
 "nbformat": 4,
 "nbformat_minor": 2
}
